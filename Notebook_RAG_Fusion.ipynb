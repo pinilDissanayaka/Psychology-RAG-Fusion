{
  "nbformat": 4,
  "nbformat_minor": 0,
  "metadata": {
    "colab": {
      "provenance": [],
      "authorship_tag": "ABX9TyNMclev2ks37loIIRlJu+Iq",
      "include_colab_link": true
    },
    "kernelspec": {
      "name": "python3",
      "display_name": "Python 3"
    },
    "language_info": {
      "name": "python"
    }
  },
  "cells": [
    {
      "cell_type": "markdown",
      "metadata": {
        "id": "view-in-github",
        "colab_type": "text"
      },
      "source": [
        "<a href=\"https://colab.research.google.com/github/pinilDissanayaka/Psychology-RAG-Fusion/blob/main/Notebook_RAG_Fusion.ipynb\" target=\"_parent\"><img src=\"https://colab.research.google.com/assets/colab-badge.svg\" alt=\"Open In Colab\"/></a>"
      ]
    },
    {
      "cell_type": "code",
      "execution_count": 15,
      "metadata": {
        "id": "bMz46rbGy7Ur"
      },
      "outputs": [],
      "source": [
        "import os\n",
        "from langchain_groq import ChatGroq\n",
        "from google.colab import userdata\n",
        "from pinecone import Pinecone, ServerlessSpec"
      ]
    },
    {
      "cell_type": "code",
      "source": [
        "def getLlm():\n",
        "  os.environ['GROQ_API_KEY']=userdata.get('GROQ_API_KEY')\n",
        "  llm=ChatGroq(model_name='llama-3.1-70b-versatile',\n",
        "              temperature=0.6)\n",
        "  return llm\n"
      ],
      "metadata": {
        "id": "D2CdCaVYzATn"
      },
      "execution_count": 12,
      "outputs": []
    },
    {
      "cell_type": "code",
      "source": [
        "llm=getLlm()\n",
        "llm.invoke('hi')"
      ],
      "metadata": {
        "colab": {
          "base_uri": "https://localhost:8080/"
        },
        "id": "thkX2dO90DID",
        "outputId": "ef01cc02-8969-43d4-8089-46e33f275254"
      },
      "execution_count": 14,
      "outputs": [
        {
          "output_type": "execute_result",
          "data": {
            "text/plain": [
              "AIMessage(content='Hello! How can I assist you today?', response_metadata={'token_usage': {'completion_tokens': 10, 'prompt_tokens': 11, 'total_tokens': 21, 'completion_time': 0.04, 'prompt_time': 0.005964215, 'queue_time': None, 'total_time': 0.045964215}, 'model_name': 'llama-3.1-70b-versatile', 'system_fingerprint': 'fp_9260b4bb2e', 'finish_reason': 'stop', 'logprobs': None}, id='run-974b339b-cb68-4d95-b10e-c3f6a6177ed7-0', usage_metadata={'input_tokens': 11, 'output_tokens': 10, 'total_tokens': 21})"
            ]
          },
          "metadata": {},
          "execution_count": 14
        }
      ]
    },
    {
      "cell_type": "code",
      "source": [
        "os.environ['PINECONE_API_KEY']=userdata.get('PINECORN_API_KEY')\n",
        "pinecone=Pinecone()"
      ],
      "metadata": {
        "id": "5k3lf-2D0Eh1"
      },
      "execution_count": 20,
      "outputs": []
    },
    {
      "cell_type": "code",
      "source": [
        "pineconeIndexNames=pinecone.list_indexes().names()\n",
        "\n",
        "print('Available Indexes  :')\n",
        "print(f'\\t {pineconeIndexNames}')"
      ],
      "metadata": {
        "colab": {
          "base_uri": "https://localhost:8080/"
        },
        "id": "3oAHA_6h02wX",
        "outputId": "1f426881-cc5c-4219-e731-8dccb9005103"
      },
      "execution_count": 23,
      "outputs": [
        {
          "output_type": "stream",
          "name": "stdout",
          "text": [
            "Available Indexes  :\n",
            "\t ['american-history', 'wiki', 'pdf-rag', 'time-table']\n"
          ]
        }
      ]
    },
    {
      "cell_type": "code",
      "source": [],
      "metadata": {
        "id": "TAxX8vIc0_JN"
      },
      "execution_count": null,
      "outputs": []
    }
  ]
}